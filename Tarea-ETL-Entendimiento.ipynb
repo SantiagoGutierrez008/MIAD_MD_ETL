{
 "cells": [
  {
   "cell_type": "markdown",
   "id": "f9f21694",
   "metadata": {},
   "source": [
    "# <center> Tarea ETL - Entendimiento </center>\n",
    "Proceso de entendimiento de datos de WWImporters a través de perfilamiento general, análisis de reglas de negocio, estadísticos y análisis de calidad de datos. Se usara PySpark para realizar la exploración y calidad de datos sobre los datos de la tabla movimientosCopia que se encuentra en la base de datos WWImportersTransactional, que registra el movimiento en inventario de un producto. La empresa no compartió información de las tablas de clientes ni de proveedores para esta actividad.\n",
    "\n",
    "                                                                                                Santiago Gutiérrez Hernández"
   ]
  },
  {
   "cell_type": "markdown",
   "id": "790ff917",
   "metadata": {},
   "source": [
    "## Configuración e importe de paquetes"
   ]
  },
  {
   "cell_type": "code",
   "execution_count": 1,
   "id": "e044c5ff",
   "metadata": {},
   "outputs": [
    {
     "name": "stderr",
     "output_type": "stream",
     "text": [
      "C:\\Users\\estudiante\\AppData\\Roaming\\Python\\Python39\\site-packages\\numba\\core\\decorators.py:262: NumbaDeprecationWarning: \u001b[1mnumba.generated_jit is deprecated. Please see the documentation at: https://numba.readthedocs.io/en/stable/reference/deprecation.html#deprecation-of-generated-jit for more information and advice on a suitable replacement.\u001b[0m\n",
      "  warnings.warn(msg, NumbaDeprecationWarning)\n",
      "C:\\Users\\estudiante\\AppData\\Roaming\\Python\\Python39\\site-packages\\visions\\backends\\shared\\nan_handling.py:51: NumbaDeprecationWarning: \u001b[1mThe 'nopython' keyword argument was not supplied to the 'numba.jit' decorator. The implicit default value for this argument is currently False, but it will be changed to True in Numba 0.59.0. See https://numba.readthedocs.io/en/stable/reference/deprecation.html#deprecation-of-object-mode-fall-back-behaviour-when-using-jit for details.\u001b[0m\n",
      "  def hasna(x: np.ndarray) -> bool:\n",
      "C:\\Users\\estudiante\\AppData\\Local\\Temp\\ipykernel_548\\2355262383.py:11: DeprecationWarning: `import pandas_profiling` is going to be deprecated by April 1st. Please use `import ydata_profiling` instead.\n",
      "  from pandas_profiling import ProfileReport\n"
     ]
    }
   ],
   "source": [
    "from pyspark.sql import SparkSession\n",
    "from pyspark.sql import functions\n",
    "from pyspark.sql.types import StructType\n",
    "from pyspark import SparkContext, SparkConf, SQLContext\n",
    "from pyspark.sql.types import FloatType, StringType, IntegerType, DateType\n",
    "from pyspark.sql.functions import udf, col, length, isnan, when, count\n",
    "import pyspark.sql.functions as f\n",
    "import os \n",
    "from datetime import datetime\n",
    "from pyspark.sql import types as t\n",
    "from pandas_profiling import ProfileReport\n",
    "import matplotlib.pyplot as plt\n",
    "import numpy as np"
   ]
  },
  {
   "cell_type": "code",
   "execution_count": 2,
   "id": "669a7f28",
   "metadata": {},
   "outputs": [],
   "source": [
    "path_jar_driver = 'C:\\Program Files (x86)\\MySQL\\Connector J 8.0\\mysql-connector-java-8.0.28.jar'"
   ]
  },
  {
   "cell_type": "code",
   "execution_count": 3,
   "id": "690a97dd",
   "metadata": {},
   "outputs": [
    {
     "name": "stderr",
     "output_type": "stream",
     "text": [
      "C:\\Users\\estudiante\\anaconda3\\lib\\site-packages\\pyspark\\sql\\context.py:113: FutureWarning: Deprecated in 3.0.0. Use SparkSession.builder.getOrCreate() instead.\n",
      "  warnings.warn(\n"
     ]
    }
   ],
   "source": [
    "#Configuración de la sesión\n",
    "conf=SparkConf() \\\n",
    "    .set('spark.driver.extraClassPath', path_jar_driver)\n",
    "\n",
    "spark_context = SparkContext(conf=conf)\n",
    "sql_context = SQLContext(spark_context)\n",
    "spark = sql_context.sparkSession"
   ]
  },
  {
   "cell_type": "code",
   "execution_count": 4,
   "id": "92c4b8bd",
   "metadata": {},
   "outputs": [],
   "source": [
    "db_connection_string = 'jdbc:mysql://157.253.236.116:8080/WWImportersTransactional'\n",
    "# El usuario es su estudiante _i asignado y su contraseña la encontrará en el archivo excel de Coursera \n",
    "db_user = 'Estudiante_51_202315'\n",
    "db_psswd = 'aabb1122'\n",
    "\n",
    "PATH='./'"
   ]
  },
  {
   "cell_type": "code",
   "execution_count": 5,
   "id": "748031ec",
   "metadata": {},
   "outputs": [],
   "source": [
    "def obtener_dataframe_de_bd(db_connection_string, sql, db_user, db_psswd):\n",
    "    df_bd = spark.read.format('jdbc')\\\n",
    "        .option('url', db_connection_string) \\\n",
    "        .option('dbtable', sql) \\\n",
    "        .option('user', db_user) \\\n",
    "        .option('password', db_psswd) \\\n",
    "        .option('driver', 'com.mysql.cj.jdbc.Driver') \\\n",
    "        .load()\n",
    "    return df_bd"
   ]
  },
  {
   "cell_type": "markdown",
   "id": "84aa6c4b",
   "metadata": {},
   "source": [
    "## 1. Perfilamiento de datos"
   ]
  },
  {
   "cell_type": "markdown",
   "id": "0bf0f76b",
   "metadata": {},
   "source": [
    "En esta etapa se realizara el entendimiento general de los datos, la alidación de reglas de negocio y análisis descriptivo utilizando estadística descriptiva y diagramas para la visualización de los datos y análisis de calidad.\n",
    "\n",
    "#### En relación a los datos Wide World Importers menciona:\n",
    "\n",
    "- La cantidad máxima de productos movidos es 50 millones por transacción\n",
    "- Existen 236.668 movimientos de producto realizados desde 2013\n",
    "- Los movimientos están relacionados con 228.265 clientes\n",
    "- El formato de fechas manejado es YYYY-MM-DD HH:MM:SS\n",
    "- Actualmente tenemos 13 proveedores"
   ]
  },
  {
   "cell_type": "markdown",
   "id": "31d5cb53",
   "metadata": {},
   "source": [
    "### 1.1 Entendimiento general de los datos"
   ]
  },
  {
   "cell_type": "code",
   "execution_count": 7,
   "id": "1585aee6",
   "metadata": {},
   "outputs": [],
   "source": [
    "sql_movimientos = 'WWImportersTransactional.movimientosCopia'"
   ]
  },
  {
   "cell_type": "code",
   "execution_count": 8,
   "id": "8021a1a9",
   "metadata": {},
   "outputs": [],
   "source": [
    "movimientos = obtener_dataframe_de_bd(db_connection_string, sql_movimientos, db_user, db_psswd)"
   ]
  },
  {
   "cell_type": "code",
   "execution_count": 86,
   "id": "7ca22b5a",
   "metadata": {},
   "outputs": [
    {
     "name": "stdout",
     "output_type": "stream",
     "text": [
      "+---------------------+----------+-----------------+---------+---------+-----------+---------------+----------------+--------+\n",
      "|TransaccionProductoID|ProductoID|TipoTransaccionID|ClienteID|InvoiceID|ProveedorID|OrdenDeCompraID|FechaTransaccion|Cantidad|\n",
      "+---------------------+----------+-----------------+---------+---------+-----------+---------------+----------------+--------+\n",
      "|               118903|       217|               10|    476.0|  24904.0|           |               |     Apr 25,2014|   -40.0|\n",
      "|               286890|       135|               10|     33.0|  60117.0|           |               |     Dec 10,2015|    -7.0|\n",
      "|               285233|       111|               10|    180.0|  59768.0|           |               |     Dec 04,2015|    -2.0|\n",
      "|               290145|       213|               10|     33.0|  60795.0|           |               |     Dec 23,2015|    -3.0|\n",
      "|               247492|        90|               10|     55.0|  51851.0|           |               |     Jul 27,2015|   -24.0|\n",
      "|               157714|       212|               10|    146.0|  33043.0|           |               |     Sep 15,2014|   -20.0|\n",
      "|               250024|       218|               10|    585.0|  52377.0|           |               |     Aug 04,2015|   -60.0|\n",
      "|               200801|       120|               10|     30.0|  42049.0|           |               |     Feb 23,2015|    -3.0|\n",
      "|               221525|       129|               10|    596.0|  46388.0|           |               |     May 01,2015|    -7.0|\n",
      "|               295331|       197|               10|   1037.0|  61886.0|           |               |     Jan 08,2016|  -216.0|\n",
      "|               110972|       162|               10|    137.0|  23228.0|           |               |     Mar 26,2014|   -20.0|\n",
      "|               249110|       209|               10|    552.0|  52188.0|           |               |     Jul 31,2015|   -25.0|\n",
      "|               154624|       149|               10|    519.0|  32401.0|           |               |     Sep 02,2014|   -36.0|\n",
      "|               313072|        49|               10|    141.0|  65643.0|           |               |     Mar 15,2016|    -8.0|\n",
      "|               335449|       150|               10|    150.0|  70341.0|           |               |     May 28,2016|    -4.0|\n",
      "|               259859|       146|               10|     43.0|  54454.0|           |               |     Sep 09,2015|   -96.0|\n",
      "|               126490|       189|               10|     71.0|  26484.0|           |               |     May 23,2014|  -260.0|\n",
      "|               151545|        90|               10|     84.0|  31758.0|           |               |     Aug 20,2014|   -24.0|\n",
      "|               191958|        73|               10|    119.0|  40202.0|           |               |     Jan 21,2015|   -10.0|\n",
      "|               291834|       131|               10|   1006.0|  61153.0|           |               |     Dec 29,2015|    -6.0|\n",
      "|               148416|       178|               10|    587.0|  31092.0|           |               |     Aug 08,2014|  -200.0|\n",
      "|               101834|       199|               10|    977.0|  21338.0|           |               |     Feb 18,2014|  -216.0|\n",
      "|               283403|        68|               10|    458.0|  59379.0|           |               |     Nov 27,2015|    -6.0|\n",
      "|               184461|       214|               10|    813.0|  38631.0|           |               |     Dec 24,2014|    -4.0|\n",
      "|                96464|        53|               10|    514.0|  20201.0|           |               |     Jan 28,2014|    -1.0|\n",
      "|               183526|       117|               10|     23.0|  38427.0|           |               |     Dec 20,2014|    -4.0|\n",
      "|               197005|        80|               11|      0.0|      0.0|        4.0|         1272.0|     Feb 10,2015| 11148.0|\n",
      "|               123998|        42|               10|    978.0|  25969.0|           |               |     May 14,2014|    -6.0|\n",
      "|               124944|        69|               10|     92.0|  26164.0|           |               |     May 16,2014|    -2.0|\n",
      "|                93642|       155|               10|    494.0|  19622.0|           |               |     Jan 16,2014|   -20.0|\n",
      "|               250800|        95|               10|    570.0|  52536.0|           |               |     Aug 07,2015|   -24.0|\n",
      "|               175349|       207|               10|    808.0|  36717.0|           |               |     Nov 19,2014|   -72.0|\n",
      "|               180743|        20|               10|    976.0|  37845.0|           |               |     Dec 11,2014|    -2.0|\n",
      "|               131289|       130|               10|   1017.0|  27489.0|           |               |     Jun 09,2014|    -1.0|\n",
      "|               147366|       209|               10|    858.0|  30876.0|           |               |     Aug 04,2014|   -20.0|\n",
      "|               321296|       177|               10|    544.0|  67370.0|           |               |     Apr 13,2016|  -250.0|\n",
      "|               199493|        71|               10|    535.0|  41773.0|           |               |     Feb 18,2015|    -1.0|\n",
      "|               308528|       191|               10|    870.0|  64687.0|           |               |     Feb 26,2016|   -72.0|\n",
      "|               227324|       121|               10|    176.0|  47618.0|           |               |     May 21,2015|    -5.0|\n",
      "|               122229|         6|               10|    838.0|  25596.0|           |               |     May 07,2014|    -9.0|\n",
      "|               138792|       185|               10|   1003.0|  29078.0|           |               |     Jul 04,2014|   -25.0|\n",
      "|               262107|        69|               10|    578.0|  54931.0|           |               |     Sep 17,2015|    -1.0|\n",
      "|               119731|        65|               10|    899.0|  25069.0|           |               |     Apr 29,2014|    -7.0|\n",
      "|               184028|       127|               10|     80.0|  38539.0|           |               |     Dec 23,2014|    -7.0|\n",
      "|               160209|        65|               10|   1003.0|  33566.0|           |               |     Sep 25,2014|    -4.0|\n",
      "|               155375|       144|               10|    856.0|  32559.0|           |               |     Sep 05,2014|   -96.0|\n",
      "|               283029|       179|               10|    957.0|  59298.0|           |               |     Nov 26,2015|  -150.0|\n",
      "|               209857|       173|               10|    557.0|  43941.0|           |               |     Mar 25,2015|   -10.0|\n",
      "|               239788|       122|               10|    991.0|  50217.0|           |               |     Jul 02,2015|    -5.0|\n",
      "|               322675|       189|               10|    417.0|  67663.0|           |               |     Apr 16,2016|   -78.0|\n",
      "+---------------------+----------+-----------------+---------+---------+-----------+---------------+----------------+--------+\n",
      "only showing top 50 rows\n",
      "\n"
     ]
    }
   ],
   "source": [
    "movimientos.show(50)"
   ]
  },
  {
   "attachments": {},
   "cell_type": "markdown",
   "id": "588bde3f",
   "metadata": {},
   "source": [
    "Podemos observar en la tabla de movimientos tenemos información relacionada con el producto, cliente, el empleado y con información del movimiento. En general la mayoria de campos que cuentan con ID son llevas secundarias que nos ayudan a relacionarnos con otras tablas, ya sea del cliente, producto, proveedor, entre otras. La información del producto encontramos el \"ProductoID\", del cliente contamos con el \"ClienteID\", del proveedor con el \"ProveedorID\", de la factura \"InvoiceID\", de las ordenes la \"OrdenesDeCompraID\", y por ultimo de los movimientos contamos con la \"TransaccionProductoID\" (la llave primaria que identifica al movimiento), la \"FechaTransaccion\" y \"Cantidad\" (Cantidad de productos que se ingresaron/sacaron del inventario). "
   ]
  },
  {
   "cell_type": "code",
   "execution_count": 14,
   "id": "2b138be8",
   "metadata": {
    "scrolled": true
   },
   "outputs": [
    {
     "data": {
      "text/plain": [
       "StructType([StructField('TransaccionProductoID', IntegerType(), True), StructField('ProductoID', IntegerType(), True), StructField('TipoTransaccionID', IntegerType(), True), StructField('ClienteID', DoubleType(), True), StructField('InvoiceID', DoubleType(), True), StructField('ProveedorID', StringType(), True), StructField('OrdenDeCompraID', StringType(), True), StructField('FechaTransaccion', StringType(), True), StructField('Cantidad', DoubleType(), True)])"
      ]
     },
     "execution_count": 14,
     "metadata": {},
     "output_type": "execute_result"
    }
   ],
   "source": [
    "movimientos.schema"
   ]
  },
  {
   "cell_type": "markdown",
   "id": "d8c51bf8",
   "metadata": {},
   "source": [
    "Por otra lado, al identificar el esquema de la tabla podemos identificar que los campos \"TransaccionProductoID\", \"ProductoID\", \"TipoTransaccionID\" son del tipo \"Integer\". Los campos \"ClienteID\", \"InvoiceID\" y \"Cantidad\" son del tipo \"Double\". Los campos \"ProveedorID\",\"OrdenDeCompraID\" y \"FechaTransaccion\" son del tipo \"String\". Tenemos entonces 3 campos que son \"Integer\", 3 tipos \"Double\" y 3 tipo \"String\"."
   ]
  },
  {
   "cell_type": "code",
   "execution_count": 16,
   "id": "c26c86ce",
   "metadata": {},
   "outputs": [
    {
     "name": "stdout",
     "output_type": "stream",
     "text": [
      "(204292, 9)\n"
     ]
    }
   ],
   "source": [
    "print((movimientos.count(), len(movimientos.columns)))"
   ]
  },
  {
   "cell_type": "markdown",
   "id": "a26ef0bc",
   "metadata": {},
   "source": [
    "En total tenemos 204.292 movimientos y tenemos en total 9 variables a revisar. De las cuales, podemos decir que 8 son nùmericas y una es tipo fecha."
   ]
  },
  {
   "cell_type": "markdown",
   "id": "dbd75f8c",
   "metadata": {},
   "source": [
    "### 1.2 Revisión reglas de negocio"
   ]
  },
  {
   "cell_type": "markdown",
   "id": "5a6df271",
   "metadata": {},
   "source": [
    "Ahora vamos a validar las reglas proporcionadas por el negocio."
   ]
  },
  {
   "cell_type": "markdown",
   "id": "6a5fcecb",
   "metadata": {},
   "source": [
    "#### 1.2.1 Cantidad máxima de productos movidos es 50 millones por transacción."
   ]
  },
  {
   "cell_type": "code",
   "execution_count": 40,
   "id": "c2fea692",
   "metadata": {},
   "outputs": [
    {
     "name": "stdout",
     "output_type": "stream",
     "text": [
      "+-------------+\n",
      "|min(Cantidad)|\n",
      "+-------------+\n",
      "|       -360.0|\n",
      "+-------------+\n",
      "\n",
      "+-----------------+\n",
      "|    avg(Cantidad)|\n",
      "+-----------------+\n",
      "|719.4997650421946|\n",
      "+-----------------+\n",
      "\n",
      "+-------------+\n",
      "|max(Cantidad)|\n",
      "+-------------+\n",
      "|      67368.0|\n",
      "+-------------+\n",
      "\n"
     ]
    }
   ],
   "source": [
    "movimientos.agg({\"Cantidad\":\"min\"}).show()\n",
    "movimientos.agg({\"Cantidad\":\"mean\"}).show()\n",
    "movimientos.agg({\"Cantidad\":\"max\"}).show()"
   ]
  },
  {
   "cell_type": "markdown",
   "id": "2d583854",
   "metadata": {},
   "source": [
    "Al revisar los valores de la cantidad validamos que no encontramos valores superiores a los 50 millones. La maxima cantidad de productos que se encontro fue de 67.368 unidades. Podemos inferir que aun no tenemos registros de movimientos con cantidades de productos movidos sea igual a 50 millones por transacción. Se reviso el diccionario de campos de WWImporters para esta tabla y no especifican en que unidad de valor (ejemplo: decenas, centanas, miles o millones) estan las cifras, lo que seguimos infiriendo que las cifras estan en unidades. De igual modo, se debe revisar con negocio en que unidad de valor se encuentran las cifras, y de ser asi validar si los valores son correctos. Confirmado, validan nuestra primera inferencia y que la primera regla de negocio es cierta y qu eno hay registros qu tengan movimientos superiores a 50 millones por transaccion. "
   ]
  },
  {
   "cell_type": "markdown",
   "id": "9b7b3cf5",
   "metadata": {},
   "source": [
    "#### 1.2.2 Existen 236.668 movimientos de producto realizados desde 2013"
   ]
  },
  {
   "cell_type": "code",
   "execution_count": 82,
   "id": "8b1015fa",
   "metadata": {},
   "outputs": [
    {
     "name": "stdout",
     "output_type": "stream",
     "text": [
      "+---------------------+\n",
      "|min(FechaTransaccion)|\n",
      "+---------------------+\n",
      "| 2013-12-31 07:00:...|\n",
      "+---------------------+\n",
      "\n",
      "Hay un total de: 204292 regristros en la tabla de operaciones.\n"
     ]
    }
   ],
   "source": [
    "movimientos.agg({\"FechaTransaccion\":\"min\"}).show()\n",
    "print(\"Hay un total de: \" + str(movimientos.count()) + \" regristros en la tabla de operaciones.\")"
   ]
  },
  {
   "cell_type": "code",
   "execution_count": 56,
   "id": "4f447d63",
   "metadata": {},
   "outputs": [
    {
     "name": "stdout",
     "output_type": "stream",
     "text": [
      "Encontramos una diferencia de: 32376 resgistros\n"
     ]
    }
   ],
   "source": [
    "print(\"Encontramos una diferencia de: \" +  str( 236668 - movimientos.count()) + \" resgistros\")"
   ]
  },
  {
   "cell_type": "markdown",
   "id": "830a0808",
   "metadata": {},
   "source": [
    "Validamos el periodo en el que se encuentran los datos. La información empieza desde el 31 de diciembre de 2013. Surge un cuestionameinto, ya que para el 2013 solo se cuenta con información de una sola fecha. Por otro lado, se valida que el numero de registros que se tiene es inferior a la regla que presenta negocio. Se cuenta con una diferencia de 32.376 regitros. Por lo tanto, se concluir que esta regla de negocio no es cierta dado que el número de registros no coincidir con el número dado por el negocio, una primera intuición nos dice que podría faltar información y que tendriamso que validarlo con negocio."
   ]
  },
  {
   "cell_type": "markdown",
   "id": "cb65bd16",
   "metadata": {},
   "source": [
    "#### 1.2.3 Los movimientos están relacionados con 228.265 clientes"
   ]
  },
  {
   "cell_type": "code",
   "execution_count": 66,
   "id": "ca329bb9",
   "metadata": {},
   "outputs": [
    {
     "name": "stdout",
     "output_type": "stream",
     "text": [
      "Número de clientes distintos: 664\n",
      "+---------+-----+\n",
      "|ClienteID|count|\n",
      "+---------+-----+\n",
      "|    596.0|  315|\n",
      "|    496.0|  316|\n",
      "|    934.0|  307|\n",
      "|    558.0|  385|\n",
      "|   1051.0|   88|\n",
      "|    170.0|  338|\n",
      "|    184.0|  315|\n",
      "|    810.0|  401|\n",
      "|    147.0|  277|\n",
      "|    576.0|  275|\n",
      "|    160.0|  236|\n",
      "|    169.0|  333|\n",
      "|    994.0|  306|\n",
      "|    486.0|  277|\n",
      "|     70.0|  376|\n",
      "|    571.0|  289|\n",
      "|     67.0|  358|\n",
      "|      8.0|  234|\n",
      "|    878.0|  280|\n",
      "|    818.0|  253|\n",
      "|    168.0|  272|\n",
      "|      0.0| 7156|\n",
      "|    973.0|  271|\n",
      "|     69.0|  320|\n",
      "|    524.0|  294|\n",
      "|    857.0|  329|\n",
      "|    594.0|  263|\n",
      "|    840.0|  279|\n",
      "|    889.0|  300|\n",
      "|    991.0|  294|\n",
      "|    401.0|  346|\n",
      "|    925.0|  246|\n",
      "|      7.0|  303|\n",
      "|    803.0|  327|\n",
      "|    984.0|  322|\n",
      "|    902.0|  304|\n",
      "|    142.0|  307|\n",
      "|    191.0|  312|\n",
      "|    802.0|  322|\n",
      "|    921.0|  286|\n",
      "|    154.0|  290|\n",
      "|    112.0|  317|\n",
      "|    451.0|  287|\n",
      "|    936.0|  298|\n",
      "|    827.0|  312|\n",
      "|   1047.0|  114|\n",
      "|    521.0|  296|\n",
      "|    879.0|  295|\n",
      "|   1020.0|  269|\n",
      "|    858.0|  275|\n",
      "|    438.0|  385|\n",
      "|   1012.0|  267|\n",
      "|    124.0|  322|\n",
      "|    928.0|  342|\n",
      "|    567.0|  269|\n",
      "|    997.0|  354|\n",
      "|    485.0|  351|\n",
      "|    456.0|  303|\n",
      "|    410.0|  363|\n",
      "|    588.0|  311|\n",
      "|    128.0|  299|\n",
      "|    201.0|  306|\n",
      "|   1057.0|   65|\n",
      "|    180.0|  340|\n",
      "|    108.0|  266|\n",
      "|    533.0|  227|\n",
      "|    430.0|  336|\n",
      "|    831.0|  342|\n",
      "|    439.0|  340|\n",
      "|   1060.0|   18|\n",
      "|   1015.0|  229|\n",
      "|    442.0|  304|\n",
      "|    853.0|  315|\n",
      "|    907.0|  333|\n",
      "|    905.0|  276|\n",
      "|    469.0|  350|\n",
      "|    133.0|  323|\n",
      "|    509.0|  316|\n",
      "|    449.0|  348|\n",
      "|    875.0|  289|\n",
      "|    181.0|  323|\n",
      "|    883.0|  264|\n",
      "|   1026.0|  227|\n",
      "|    403.0|  322|\n",
      "|    536.0|  355|\n",
      "|    937.0|  266|\n",
      "|     88.0|  283|\n",
      "|    908.0|  315|\n",
      "|    914.0|  273|\n",
      "|    542.0|  302|\n",
      "|     49.0|  259|\n",
      "|    946.0|  253|\n",
      "|    959.0|  335|\n",
      "|    436.0|  276|\n",
      "|    155.0|  303|\n",
      "|    443.0|  289|\n",
      "|    924.0|  355|\n",
      "|   1033.0|  275|\n",
      "|    584.0|  332|\n",
      "|    478.0|  307|\n",
      "|    916.0|  350|\n",
      "|    563.0|  262|\n",
      "|    838.0|  333|\n",
      "|    101.0|  288|\n",
      "|    579.0|  324|\n",
      "|    491.0|  239|\n",
      "|    167.0|  284|\n",
      "|    116.0|  290|\n",
      "|   1024.0|  355|\n",
      "|     98.0|  313|\n",
      "|    986.0|  284|\n",
      "|    182.0|  320|\n",
      "|    107.0|  285|\n",
      "|    427.0|  308|\n",
      "|    413.0|  322|\n",
      "|     29.0|  310|\n",
      "|    587.0|  295|\n",
      "|     64.0|  314|\n",
      "|    995.0|  314|\n",
      "|     75.0|  284|\n",
      "|    445.0|  270|\n",
      "|    508.0|  293|\n",
      "|     47.0|  320|\n",
      "|    920.0|  275|\n",
      "|    812.0|  235|\n",
      "|     42.0|  347|\n",
      "|    974.0|  246|\n",
      "|    412.0|  331|\n",
      "|    144.0|  313|\n",
      "|    434.0|  284|\n",
      "|   1006.0|  269|\n",
      "|    538.0|  290|\n",
      "|    970.0|  289|\n",
      "|    490.0|  288|\n",
      "|    514.0|  350|\n",
      "|    494.0|  348|\n",
      "|     44.0|  279|\n",
      "|    465.0|  322|\n",
      "|    437.0|  326|\n",
      "|     35.0|  318|\n",
      "|    942.0|  343|\n",
      "|   1028.0|  230|\n",
      "|     62.0|  246|\n",
      "|    981.0|  337|\n",
      "|     96.0|  312|\n",
      "|    980.0|  409|\n",
      "|    945.0|  255|\n",
      "|    151.0|  304|\n",
      "|    419.0|  297|\n",
      "|    906.0|  370|\n",
      "|    405.0|  363|\n",
      "|    476.0|  337|\n",
      "|    578.0|  294|\n",
      "|    842.0|  314|\n",
      "|    529.0|  311|\n",
      "|    577.0|  225|\n",
      "|     18.0|  253|\n",
      "|    874.0|  352|\n",
      "|   1042.0|  183|\n",
      "|     80.0|  335|\n",
      "|    178.0|  306|\n",
      "|    591.0|  321|\n",
      "|     86.0|  312|\n",
      "|    171.0|  343|\n",
      "|    161.0|  267|\n",
      "|   1008.0|  273|\n",
      "|    120.0|  295|\n",
      "|    459.0|  318|\n",
      "|    440.0|  325|\n",
      "|    868.0|  271|\n",
      "|    568.0|  267|\n",
      "|    983.0|  301|\n",
      "|    139.0|  253|\n",
      "|    513.0|  284|\n",
      "|    482.0|  260|\n",
      "|    917.0|  267|\n",
      "|    511.0|  244|\n",
      "|    177.0|  324|\n",
      "|    819.0|  276|\n",
      "|    426.0|  267|\n",
      "|    893.0|  322|\n",
      "|    159.0|  313|\n",
      "|    535.0|  288|\n",
      "|    993.0|  297|\n",
      "|    409.0|  287|\n",
      "|    829.0|  344|\n",
      "|    518.0|  311|\n",
      "|    574.0|  282|\n",
      "|    804.0|  395|\n",
      "|    929.0|  290|\n",
      "|    824.0|  252|\n",
      "|    998.0|  270|\n",
      "|    817.0|  315|\n",
      "|    104.0|  266|\n",
      "|    408.0|  272|\n",
      "|      1.0|  342|\n",
      "|     39.0|  223|\n",
      "|    562.0|  341|\n",
      "|    179.0|  307|\n",
      "|    421.0|  303|\n",
      "|    448.0|  336|\n",
      "|    547.0|  253|\n",
      "|     94.0|  330|\n",
      "|    555.0|  312|\n",
      "|    855.0|  292|\n",
      "|    466.0|  322|\n",
      "|    969.0|  283|\n",
      "|   1034.0|  232|\n",
      "|   1035.0|  216|\n",
      "|    114.0|  335|\n",
      "|    595.0|  303|\n",
      "|    121.0|  290|\n",
      "|    481.0|  283|\n",
      "|    843.0|  298|\n",
      "|    166.0|  331|\n",
      "|    551.0|  289|\n",
      "|    913.0|  315|\n",
      "|    888.0|  355|\n",
      "|     34.0|  300|\n",
      "|     37.0|  317|\n",
      "|    919.0|  275|\n",
      "|     25.0|  325|\n",
      "|    911.0|  280|\n",
      "|    871.0|  332|\n",
      "|    987.0|  271|\n",
      "|   1030.0|  196|\n",
      "|     36.0|  318|\n",
      "|    833.0|  270|\n",
      "|    884.0|  373|\n",
      "|   1004.0|  259|\n",
      "|    844.0|  302|\n",
      "|     41.0|  302|\n",
      "|    923.0|  303|\n",
      "|   1003.0|  282|\n",
      "|    949.0|  324|\n",
      "|    471.0|  297|\n",
      "|    894.0|  316|\n",
      "|    922.0|  235|\n",
      "|   1058.0|   57|\n",
      "|    927.0|  266|\n",
      "|    414.0|  303|\n",
      "|    460.0|  335|\n",
      "|    582.0|  299|\n",
      "|    960.0|  346|\n",
      "|    992.0|  312|\n",
      "|    599.0|  302|\n",
      "|    573.0|  276|\n",
      "|    149.0|  395|\n",
      "|   1001.0|  363|\n",
      "|    193.0|  296|\n",
      "|    423.0|  245|\n",
      "|    859.0|  258|\n",
      "|    808.0|  296|\n",
      "|    544.0|  356|\n",
      "|    546.0|  378|\n",
      "|    951.0|  308|\n",
      "|    453.0|  292|\n",
      "|    985.0|  284|\n",
      "|    464.0|  303|\n",
      "|    468.0|  349|\n",
      "|   1007.0|  306|\n",
      "|    581.0|  244|\n",
      "|   1061.0|   36|\n",
      "|    479.0|  338|\n",
      "|      4.0|  247|\n",
      "|   1041.0|  195|\n",
      "|    137.0|  322|\n",
      "|    933.0|  289|\n",
      "|    978.0|  368|\n",
      "|    881.0|  276|\n",
      "|    961.0|  290|\n",
      "|    813.0|  292|\n",
      "|   1048.0|   90|\n",
      "|    931.0|  303|\n",
      "|    495.0|  267|\n",
      "|    948.0|  284|\n",
      "|    935.0|  288|\n",
      "|    424.0|  256|\n",
      "|    552.0|  314|\n",
      "|    862.0|  306|\n",
      "|    873.0|  294|\n",
      "|    845.0|  260|\n",
      "|    145.0|  308|\n",
      "|     85.0|  299|\n",
      "|    480.0|  336|\n",
      "|    435.0|  302|\n",
      "|    122.0|  319|\n",
      "|    523.0|  343|\n",
      "|   1054.0|  103|\n",
      "|    165.0|  289|\n",
      "|    197.0|  228|\n",
      "|    585.0|  286|\n",
      "|     23.0|  282|\n",
      "|    516.0|  368|\n",
      "|    972.0|  363|\n",
      "|    432.0|  314|\n",
      "|    140.0|  333|\n",
      "|    199.0|  323|\n",
      "|   1021.0|  283|\n",
      "|     77.0|  331|\n",
      "|     56.0|  275|\n",
      "|     50.0|  302|\n",
      "|    561.0|  304|\n",
      "|     78.0|  368|\n",
      "|    527.0|  338|\n",
      "|    123.0|  333|\n",
      "|    854.0|  276|\n",
      "|    976.0|  322|\n",
      "|    877.0|  352|\n",
      "|    977.0|  338|\n",
      "|    530.0|  299|\n",
      "|     79.0|  320|\n",
      "|    835.0|  308|\n",
      "|    113.0|  358|\n",
      "|    846.0|  330|\n",
      "|    559.0|  314|\n",
      "|    918.0|  305|\n",
      "|   1013.0|  256|\n",
      "|     83.0|  289|\n",
      "|    825.0|  315|\n",
      "|     45.0|  287|\n",
      "|    820.0|  377|\n",
      "|    129.0|  286|\n",
      "|    525.0|  339|\n",
      "|    134.0|  303|\n",
      "|    926.0|  314|\n",
      "|    493.0|  338|\n",
      "|    118.0|  384|\n",
      "|   1011.0|  379|\n",
      "|     71.0|  341|\n",
      "|    402.0|  288|\n",
      "|    866.0|  293|\n",
      "|   1025.0|  326|\n",
      "|    186.0|  346|\n",
      "|    416.0|  301|\n",
      "|    806.0|  297|\n",
      "|   1010.0|  323|\n",
      "|    173.0|  336|\n",
      "|    528.0|  353|\n",
      "|    156.0|  290|\n",
      "|    143.0|  313|\n",
      "|    943.0|  273|\n",
      "|    968.0|  328|\n",
      "|     93.0|  279|\n",
      "|    572.0|  336|\n",
      "|    532.0|  313|\n",
      "|    863.0|  307|\n",
      "|    541.0|  359|\n",
      "|    467.0|  324|\n",
      "|    132.0|  370|\n",
      "|    162.0|  301|\n",
      "|     31.0|  307|\n",
      "|   1014.0|  344|\n",
      "|    955.0|  308|\n",
      "|    146.0|  320|\n",
      "|    404.0|  286|\n",
      "|    164.0|  296|\n",
      "|    979.0|  286|\n",
      "|   1059.0|   38|\n",
      "|    815.0|  332|\n",
      "|    975.0|  364|\n",
      "|    473.0|  296|\n",
      "|    909.0|  349|\n",
      "|     11.0|  279|\n",
      "|    103.0|  304|\n",
      "|    534.0|  357|\n",
      "|    106.0|  296|\n",
      "|     58.0|  263|\n",
      "|    600.0|  258|\n",
      "|   1045.0|  222|\n",
      "|    941.0|  368|\n",
      "|    580.0|  349|\n",
      "|    821.0|  249|\n",
      "|     51.0|  308|\n",
      "|    904.0|  281|\n",
      "|     72.0|  270|\n",
      "|     21.0|  269|\n",
      "|    537.0|  325|\n",
      "|    130.0|  318|\n",
      "|    898.0|  297|\n",
      "|     14.0|  374|\n",
      "|    891.0|  269|\n",
      "|    109.0|  286|\n",
      "|    492.0|  281|\n",
      "|   1055.0|   92|\n",
      "|    865.0|  245|\n",
      "|    433.0|  265|\n",
      "|     63.0|  298|\n",
      "|    999.0|  266|\n",
      "|    832.0|  311|\n",
      "|    111.0|  211|\n",
      "|    411.0|  253|\n",
      "|    415.0|  245|\n",
      "|    586.0|  281|\n",
      "|    498.0|  356|\n",
      "|    157.0|  316|\n",
      "|    869.0|  212|\n",
      "|    890.0|  326|\n",
      "|     48.0|  323|\n",
      "|    807.0|  301|\n",
      "|    900.0|  366|\n",
      "|     22.0|  252|\n",
      "|   1019.0|  251|\n",
      "|    836.0|  263|\n",
      "|     82.0|  299|\n",
      "|    903.0|  322|\n",
      "|    575.0|  311|\n",
      "|     74.0|  239|\n",
      "|     60.0|  239|\n",
      "|     66.0|  249|\n",
      "|    856.0|  348|\n",
      "|    837.0|  293|\n",
      "|    175.0|  225|\n",
      "|    930.0|  360|\n",
      "|    457.0|  243|\n",
      "|   1053.0|   79|\n",
      "|    553.0|  280|\n",
      "|    841.0|  370|\n",
      "|   1043.0|  207|\n",
      "|    565.0|  309|\n",
      "|     68.0|  338|\n",
      "|    847.0|  269|\n",
      "|    461.0|  295|\n",
      "|    870.0|  270|\n",
      "|    849.0|  320|\n",
      "|    966.0|  311|\n",
      "|    504.0|  276|\n",
      "|   1040.0|  215|\n",
      "|   1009.0|  347|\n",
      "|    953.0|  389|\n",
      "|      3.0|  356|\n",
      "|     19.0|  296|\n",
      "|     53.0|  265|\n",
      "|    885.0|  345|\n",
      "|   1031.0|  270|\n",
      "|     61.0|  277|\n",
      "|    195.0|  375|\n",
      "|   1016.0|  315|\n",
      "|    189.0|  260|\n",
      "|    497.0|  246|\n",
      "|     81.0|  309|\n",
      "|    489.0|  304|\n",
      "|     59.0|  322|\n",
      "|     46.0|  261|\n",
      "|    488.0|  318|\n",
      "|    851.0|  277|\n",
      "|    876.0|  344|\n",
      "|    956.0|  254|\n",
      "|   1056.0|   51|\n",
      "|   1018.0|  294|\n",
      "|    826.0|  297|\n",
      "|    962.0|  304|\n",
      "|   1027.0|  293|\n",
      "|    899.0|  303|\n",
      "|     28.0|  332|\n",
      "|    982.0|  338|\n",
      "|   1023.0|  309|\n",
      "|    895.0|  290|\n",
      "|    932.0|  267|\n",
      "|    557.0|  246|\n",
      "|      2.0|  329|\n",
      "|    502.0|  311|\n",
      "|   1046.0|  139|\n",
      "|     57.0|  262|\n",
      "|   1050.0|   62|\n",
      "|    896.0|  310|\n",
      "|    872.0|  299|\n",
      "|    183.0|  361|\n",
      "|     87.0|  286|\n",
      "|    176.0|  295|\n",
      "|    901.0|  344|\n",
      "|    198.0|  328|\n",
      "|    428.0|  300|\n",
      "|    839.0|  253|\n",
      "|   1039.0|  190|\n",
      "|    526.0|  298|\n",
      "|    939.0|  277|\n",
      "|    200.0|  343|\n",
      "|     17.0|  312|\n",
      "|    441.0|  324|\n",
      "|    431.0|  319|\n",
      "|    454.0|  308|\n",
      "|    463.0|  275|\n",
      "|    503.0|  277|\n",
      "|    805.0|  240|\n",
      "|    963.0|  291|\n",
      "|    153.0|  293|\n",
      "|    187.0|  324|\n",
      "|    455.0|  273|\n",
      "|    152.0|  322|\n",
      "|    119.0|  346|\n",
      "|    910.0|  337|\n",
      "|    822.0|  317|\n",
      "|    135.0|  304|\n",
      "|    475.0|  361|\n",
      "|    915.0|  291|\n",
      "|    196.0|  272|\n",
      "|    515.0|  250|\n",
      "|    444.0|  290|\n",
      "|    809.0|  328|\n",
      "|    564.0|  322|\n",
      "|    554.0|  323|\n",
      "|     38.0|  317|\n",
      "|    860.0|  324|\n",
      "|    420.0|  264|\n",
      "|   1049.0|   92|\n",
      "|    940.0|  279|\n",
      "|    141.0|  331|\n",
      "|    138.0|  326|\n",
      "|     27.0|  306|\n",
      "|    811.0|  253|\n",
      "|    549.0|  259|\n",
      "|     10.0|  368|\n",
      "|    115.0|  320|\n",
      "|     73.0|  252|\n",
      "|    938.0|  267|\n",
      "|     30.0|  341|\n",
      "|    601.0|  328|\n",
      "|    125.0|  323|\n",
      "|    801.0|  303|\n",
      "|     40.0|  290|\n",
      "|    510.0|  302|\n",
      "|    194.0|  280|\n",
      "|     13.0|  196|\n",
      "|     99.0|  316|\n",
      "|    560.0|  294|\n",
      "|    522.0|  293|\n",
      "|    867.0|  345|\n",
      "|    188.0|  321|\n",
      "|    127.0|  318|\n",
      "|    519.0|  333|\n",
      "|    887.0|  254|\n",
      "|     95.0|  266|\n",
      "|    407.0|  300|\n",
      "|    989.0|  249|\n",
      "|    185.0|  391|\n",
      "|    848.0|  319|\n",
      "|    950.0|  328|\n",
      "|    102.0|  364|\n",
      "|    131.0|  324|\n",
      "|    589.0|  256|\n",
      "|    886.0|  280|\n",
      "|    100.0|  254|\n",
      "|    501.0|  325|\n",
      "|    598.0|  362|\n",
      "|    964.0|  356|\n",
      "|     33.0|  315|\n",
      "|     84.0|  315|\n",
      "|    569.0|  385|\n",
      "|    592.0|  311|\n",
      "|    912.0|  321|\n",
      "|     92.0|  296|\n",
      "|    864.0|  295|\n",
      "|    566.0|  292|\n",
      "|    172.0|  286|\n",
      "|    484.0|  291|\n",
      "|    834.0|  298|\n",
      "|      6.0|  305|\n",
      "|    880.0|  357|\n",
      "|   1052.0|  103|\n",
      "|    425.0|  335|\n",
      "|    583.0|  352|\n",
      "|    472.0|  351|\n",
      "|    816.0|  297|\n",
      "|     20.0|  230|\n",
      "|    882.0|  323|\n",
      "|    477.0|  244|\n",
      "|   1044.0|  157|\n",
      "|    967.0|  330|\n",
      "|    958.0|  368|\n",
      "|   1032.0|  259|\n",
      "|     52.0|  325|\n",
      "|    545.0|  377|\n",
      "|     32.0|  331|\n",
      "|      5.0|  341|\n",
      "|    971.0|  283|\n",
      "|     97.0|  334|\n",
      "|     15.0|  331|\n",
      "|    892.0|  301|\n",
      "|    462.0|  266|\n",
      "|    422.0|  210|\n",
      "|     24.0|  280|\n",
      "|    517.0|  288|\n",
      "|    105.0|  255|\n",
      "|     89.0|  303|\n",
      "|    597.0|  340|\n",
      "|    828.0|  353|\n",
      "|    192.0|  314|\n",
      "|    861.0|  349|\n",
      "|    897.0|  310|\n",
      "|    190.0|  356|\n",
      "|    952.0|  277|\n",
      "|    483.0|  309|\n",
      "|    988.0|  298|\n",
      "|    117.0|  326|\n",
      "|   1002.0|  295|\n",
      "|    447.0|  315|\n",
      "|    126.0|  229|\n",
      "|    163.0|  338|\n",
      "|     55.0|  296|\n",
      "|    136.0|  273|\n",
      "|   1029.0|  274|\n",
      "|    957.0|  308|\n",
      "|    548.0|  369|\n",
      "|    520.0|  306|\n",
      "|    418.0|  330|\n",
      "|    823.0|  308|\n",
      "|    830.0|  362|\n",
      "|    570.0|  262|\n",
      "|    944.0|  294|\n",
      "|    850.0|  316|\n",
      "|    540.0|  282|\n",
      "|      9.0|  319|\n",
      "|     26.0|  315|\n",
      "|    550.0|  312|\n",
      "|    996.0|  326|\n",
      "|     65.0|  328|\n",
      "|    499.0|  298|\n",
      "|    470.0|  288|\n",
      "|   1038.0|  190|\n",
      "|    458.0|  324|\n",
      "|    506.0|  345|\n",
      "|    954.0|  395|\n",
      "|    150.0|  327|\n",
      "|     16.0|  342|\n",
      "|   1036.0|  193|\n",
      "|    543.0|  301|\n",
      "|    556.0|  262|\n",
      "|    965.0|  342|\n",
      "|   1017.0|  275|\n",
      "|    590.0|  263|\n",
      "|     12.0|  276|\n",
      "|    429.0|  310|\n",
      "|    406.0|  284|\n",
      "|    531.0|  347|\n",
      "|    507.0|  323|\n",
      "|   1000.0|  316|\n",
      "|    174.0|  286|\n",
      "|     54.0|  316|\n",
      "|    593.0|  377|\n",
      "|     43.0|  308|\n",
      "|    158.0|  298|\n",
      "|    148.0|  246|\n",
      "|     76.0|  290|\n",
      "|    474.0|  343|\n",
      "|     90.0|  371|\n",
      "|    814.0|  249|\n",
      "|    512.0|  248|\n",
      "|    990.0|  277|\n",
      "|    539.0|  287|\n",
      "|   1037.0|  250|\n",
      "|    417.0|  300|\n",
      "|    505.0|  346|\n",
      "|   1005.0|  310|\n",
      "|    450.0|  278|\n",
      "|    446.0|  250|\n",
      "|    110.0|  353|\n",
      "|    852.0|  304|\n",
      "|    500.0|  291|\n",
      "|    452.0|  339|\n",
      "|    487.0|  356|\n",
      "|    947.0|  325|\n",
      "|     91.0|  263|\n",
      "|   1022.0|  291|\n",
      "+---------+-----+\n",
      "\n"
     ]
    }
   ],
   "source": [
    "clientes_unicos = movimientos.select(\"ClienteID\").distinct().count()\n",
    "print(\"Número de clientes distintos:\", clientes_unicos)\n",
    "\n",
    "movimientos.groupBy(\"ClienteID\").count().show(1000)"
   ]
  },
  {
   "cell_type": "code",
   "execution_count": 67,
   "id": "11c7633f",
   "metadata": {},
   "outputs": [
    {
     "name": "stdout",
     "output_type": "stream",
     "text": [
      "Encontramos una diferencia de: 227601 resgistros\n"
     ]
    }
   ],
   "source": [
    "print(\"Encontramos una diferencia de: \" +  str( 228265 - movimientos.select(\"ClienteID\").distinct().count()) + \" resgistros\")"
   ]
  },
  {
   "cell_type": "markdown",
   "id": "4ddfedd6",
   "metadata": {},
   "source": [
    "El numero de clientes unicos es de 664. Por lo tanto, la regla de negocio no es cierta, ya que no coinciden el numero de clientes registros con el numero de clientes relacionados por negocio. Se cuenta con una diferencia de 227.601 clientes. "
   ]
  },
  {
   "cell_type": "markdown",
   "id": "d4abc2b0",
   "metadata": {},
   "source": [
    "#### 1.2.4 El formato de fechas manejado es YYYY-MM-DD HH:MM:SS"
   ]
  },
  {
   "cell_type": "code",
   "execution_count": 70,
   "id": "49d46173",
   "metadata": {},
   "outputs": [
    {
     "name": "stdout",
     "output_type": "stream",
     "text": [
      "Número total de ordenes: 204292, número de ordenes con formato correcto: 140038\n"
     ]
    }
   ],
   "source": [
    "regex = \"[0-2]\\d{3}-(0[1-9]|1[0-2])-(0[1-9]|[1-2][0-9]|3[0-1])\"\n",
    "cumplenFormato = movimientos.filter(movimientos[\"FechaTransaccion\"].rlike(regex))\n",
    "print(\"Número total de ordenes: \"+str(movimientos.count())+\", número de ordenes con formato correcto: \"+str(cumplenFormato.count()))"
   ]
  },
  {
   "cell_type": "code",
   "execution_count": 71,
   "id": "1576ae77",
   "metadata": {},
   "outputs": [
    {
     "name": "stdout",
     "output_type": "stream",
     "text": [
      "+----------------+\n",
      "|FechaTransaccion|\n",
      "+----------------+\n",
      "|     Apr 25,2014|\n",
      "|     Dec 10,2015|\n",
      "|     Dec 04,2015|\n",
      "|     Dec 23,2015|\n",
      "|     Jul 27,2015|\n",
      "|     Sep 15,2014|\n",
      "|     Aug 04,2015|\n",
      "|     Feb 23,2015|\n",
      "|     May 01,2015|\n",
      "|     Jan 08,2016|\n",
      "|     Mar 26,2014|\n",
      "|     Jul 31,2015|\n",
      "|     Sep 02,2014|\n",
      "|     Mar 15,2016|\n",
      "|     May 28,2016|\n",
      "|     Sep 09,2015|\n",
      "|     May 23,2014|\n",
      "|     Aug 20,2014|\n",
      "|     Jan 21,2015|\n",
      "|     Dec 29,2015|\n",
      "+----------------+\n",
      "only showing top 20 rows\n",
      "\n"
     ]
    },
    {
     "data": {
      "text/plain": [
       "(64254, None)"
      ]
     },
     "execution_count": 71,
     "metadata": {},
     "output_type": "execute_result"
    }
   ],
   "source": [
    "noCumplenFormato = movimientos.filter(~movimientos[\"FechaTransaccion\"].rlike(regex))\n",
    "noCumplenFormato.count(), noCumplenFormato.select(col(\"FechaTransaccion\")).show()"
   ]
  },
  {
   "cell_type": "markdown",
   "id": "1c034153",
   "metadata": {},
   "source": [
    "Hay 64.254 registros cuya fecha no cumple con el formato especificado. Sin embargo, los valores que son diferentes parecen serlo solo porque varia el formato, este tipo de casos pueden ser solucionados fácilmente. Se le notificaria a negocio."
   ]
  },
  {
   "cell_type": "markdown",
   "id": "f590f6b4",
   "metadata": {},
   "source": [
    "#### 1.2.4 Actualmente tenemos 13 proveedores"
   ]
  },
  {
   "cell_type": "code",
   "execution_count": 75,
   "id": "09600778",
   "metadata": {},
   "outputs": [
    {
     "name": "stdout",
     "output_type": "stream",
     "text": [
      "+-----------+------+\n",
      "|ProveedorID| count|\n",
      "+-----------+------+\n",
      "|        1.0|    11|\n",
      "|        4.0|  4832|\n",
      "|        7.0|  2267|\n",
      "|           |197182|\n",
      "+-----------+------+\n",
      "\n",
      "Número de proveedores distintos: 4\n"
     ]
    }
   ],
   "source": [
    "movimientos.groupBy(\"ProveedorID\").count().show()\n",
    "distinct_provider_count = movimientos.select(\"ProveedorID\").distinct().count()\n",
    "print(\"Número de proveedores distintos:\", distinct_provider_count)"
   ]
  },
  {
   "cell_type": "markdown",
   "id": "3f95b96c",
   "metadata": {},
   "source": [
    "Tenemos un total de 3 provedores, los demas salen en blanco. Por lo tanto, la regla de negocio no es cierta, ya que no coinciden el numero de proveedores de la tabla con el numero de proveedores que relaciona negocio. Hay una diferencia de 10 proveedores."
   ]
  },
  {
   "cell_type": "markdown",
   "id": "44dbf2bc",
   "metadata": {},
   "source": [
    "## 2. Análisis Descriptivo"
   ]
  },
  {
   "cell_type": "code",
   "execution_count": 77,
   "id": "b56be790",
   "metadata": {},
   "outputs": [
    {
     "name": "stdout",
     "output_type": "stream",
     "text": [
      "+-------+---------------------+------------------+-------------------+------------------+-----------------+-----------------+------------------+--------------------+-----------------+\n",
      "|summary|TransaccionProductoID|        ProductoID|  TipoTransaccionID|         ClienteID|        InvoiceID|      ProveedorID|   OrdenDeCompraID|    FechaTransaccion|         Cantidad|\n",
      "+-------+---------------------+------------------+-------------------+------------------+-----------------+-----------------+------------------+--------------------+-----------------+\n",
      "|  count|               204292|            204292|             204292|            204292|           204292|           204292|            204292|              204292|           204292|\n",
      "|   mean|   212458.04047637695|110.70090850351458| 10.035253460732676| 517.3252941867523|42957.26929590978|4.951898734177215|1345.9973277074544|                NULL|719.4997650421946|\n",
      "| stddev|    71352.37579752573| 63.49014746219581|0.18563716955046372|353.50136995999276| 16826.9772221931|1.406311225432683|420.37740964792835|                NULL| 4729.36659747762|\n",
      "|    min|                89146|                 1|                 10|               0.0|              0.0|                 |                  |2013-12-31 07:00:...|           -360.0|\n",
      "|    25%|               150639|                56|                 10|             145.0|          30120.0|              4.0|             986.0|                NULL|            -60.0|\n",
      "|    50%|               212323|               110|                 10|             511.0|          43546.0|              4.0|            1347.0|                NULL|             -9.0|\n",
      "|    75%|               274216|               166|                 10|             877.0|          56983.0|              7.0|            1710.0|                NULL|             -5.0|\n",
      "|    max|               336251|               227|                 12|            1061.0|          70510.0|              7.0|             999.0|         Sep 30,2015|          67368.0|\n",
      "+-------+---------------------+------------------+-------------------+------------------+-----------------+-----------------+------------------+--------------------+-----------------+\n",
      "\n"
     ]
    }
   ],
   "source": [
    "movimientos.summary().show()"
   ]
  },
  {
   "cell_type": "markdown",
   "id": "1dee281d",
   "metadata": {},
   "source": [
    "La \"Cantidad\" maxima que han retirado es de 360 unidades, y la cantidad maxima que han igresado es de 67.368 unidades. Se presenta una cantidad media de 719,5 unidades y una mediana de -9 unidades, ya nos da un indicio de que hay una gran variabilidad entre los datos y que lo mas probable es que no sigan una distribución normal. Cuando revisamos la desviación estandar, igual a 4.729 unidades aprox, nos confirma la premisa anterior e identificamos que hay una gran variabilidad entre los datos. El percentil nos indica que el 75% de los datos no sobrepasan el valor de -5, ya nos muestra la presencia de valores anomalos o extremos."
   ]
  },
  {
   "cell_type": "code",
   "execution_count": 79,
   "id": "cccb5849",
   "metadata": {},
   "outputs": [
    {
     "data": {
      "text/plain": [
       "{'whiskers': [<matplotlib.lines.Line2D at 0x161e108dca0>,\n",
       "  <matplotlib.lines.Line2D at 0x161e108df40>],\n",
       " 'caps': [<matplotlib.lines.Line2D at 0x161dfd63220>,\n",
       "  <matplotlib.lines.Line2D at 0x161dfd634c0>],\n",
       " 'boxes': [<matplotlib.lines.Line2D at 0x161e108da00>],\n",
       " 'medians': [<matplotlib.lines.Line2D at 0x161e108d700>],\n",
       " 'fliers': [<matplotlib.lines.Line2D at 0x161dfd63760>],\n",
       " 'means': []}"
      ]
     },
     "execution_count": 79,
     "metadata": {},
     "output_type": "execute_result"
    },
    {
     "data": {
      "image/png": "[encoded data removed]",
      "text/plain": [
       "<Figure size 432x288 with 1 Axes>"
      ]
     },
     "metadata": {
      "needs_background": "light"
     },
     "output_type": "display_data"
    }
   ],
   "source": [
    "fig1, ax1 = plt.subplots()\n",
    "ax1.set_title('Cantidad')\n",
    "\n",
    "my_list = [float(i) for i in movimientos.select(f.collect_list('Cantidad')).first()[0]]\n",
    "ax1.boxplot(my_list)"
   ]
  },
  {
   "cell_type": "markdown",
   "id": "3e6d8841",
   "metadata": {},
   "source": [
    "Terminamos de confirmar la presencia de varios valores anomalos o extremos. En general los demas campos son llaves que sirven para relacionar con otras tablas. Pero podriamos sacar la moda a traves de una tabla de frecuencuas de alguna de ellas. Podemos identificar como se estan agrupando los datos y donde hay mayores concentraciones."
   ]
  },
  {
   "cell_type": "code",
   "execution_count": 92,
   "id": "ae3cb6a1",
   "metadata": {},
   "outputs": [
    {
     "name": "stdout",
     "output_type": "stream",
     "text": [
      "+-----------+------+\n",
      "|ProveedorID| count|\n",
      "+-----------+------+\n",
      "|           |197182|\n",
      "|        4.0|  4832|\n",
      "|        7.0|  2267|\n",
      "|        1.0|    11|\n",
      "+-----------+------+\n",
      "\n",
      "+----------+-----+\n",
      "|ProductoID|count|\n",
      "+----------+-----+\n",
      "|        80| 1488|\n",
      "|        95| 1477|\n",
      "|       184| 1339|\n",
      "|        86| 1318|\n",
      "|       193| 1312|\n",
      "|       204| 1307|\n",
      "|        77| 1300|\n",
      "|        78| 1296|\n",
      "|        98| 1272|\n",
      "|        13|  986|\n",
      "+----------+-----+\n",
      "only showing top 10 rows\n",
      "\n",
      "+---------+-----+\n",
      "|ClienteID|count|\n",
      "+---------+-----+\n",
      "|      0.0| 7156|\n",
      "|    980.0|  409|\n",
      "|    810.0|  401|\n",
      "|    804.0|  395|\n",
      "|    149.0|  395|\n",
      "|    954.0|  395|\n",
      "|    185.0|  391|\n",
      "|    953.0|  389|\n",
      "|    438.0|  385|\n",
      "|    558.0|  385|\n",
      "+---------+-----+\n",
      "only showing top 10 rows\n",
      "\n",
      "+-----------------+------+\n",
      "|TipoTransaccionID| count|\n",
      "+-----------------+------+\n",
      "|               10|197136|\n",
      "|               11|  7110|\n",
      "|               12|    46|\n",
      "+-----------------+------+\n",
      "\n",
      "+---------------+------+\n",
      "|OrdenDeCompraID| count|\n",
      "+---------------+------+\n",
      "|               |197182|\n",
      "|          829.0|    11|\n",
      "|         1579.0|    10|\n",
      "|         1186.0|    10|\n",
      "|         1237.0|    10|\n",
      "|         1498.0|    10|\n",
      "|         1313.0|    10|\n",
      "|         1301.0|     9|\n",
      "|         1363.0|     9|\n",
      "|          927.0|     9|\n",
      "+---------------+------+\n",
      "only showing top 10 rows\n",
      "\n",
      "+--------------------+-----+\n",
      "|    FechaTransaccion|count|\n",
      "+--------------------+-----+\n",
      "|2015-11-03 12:00:...|  331|\n",
      "|2015-01-21 12:00:...|  326|\n",
      "|2015-04-14 12:00:...|  323|\n",
      "|2016-05-04 12:00:...|  323|\n",
      "|2015-10-06 12:00:...|  317|\n",
      "|2016-03-23 12:00:...|  314|\n",
      "|2015-11-24 12:00:...|  309|\n",
      "|2016-02-24 12:00:...|  307|\n",
      "|2016-02-26 12:00:...|  304|\n",
      "|2016-03-22 12:00:...|  304|\n",
      "+--------------------+-----+\n",
      "only showing top 10 rows\n",
      "\n"
     ]
    }
   ],
   "source": [
    "movimientos.groupby(\"ProveedorID\").count().orderBy(\"count\", ascending=False).show(5)\n",
    "movimientos.groupby(\"ProductoID\").count().orderBy(\"count\", ascending=False).show(10)\n",
    "movimientos.groupby(\"ClienteID\").count().orderBy(\"count\", ascending=False).show(10)\n",
    "movimientos.groupby(\"TipoTransaccionID\").count().orderBy(\"count\", ascending=False).show(10)\n",
    "movimientos.groupby(\"OrdenDeCompraID\").count().orderBy(\"count\", ascending=False).show(10)\n",
    "movimientos.groupby(\"FechaTransaccion\").count().orderBy(\"count\", ascending=False).show(10)"
   ]
  },
  {
   "cell_type": "markdown",
   "id": "6be66b34",
   "metadata": {},
   "source": [
    "Revisando la logica del campo \"ProveedorID\" sobre el total de los datos, se identifica que los campos vacios corresponden a movimientos de salidas o retiros por lo que no se necesita identificar a ningun proveedor. Caso contrario, cuando entran o ingresan inventario es necesario relacionar al proveedor sobre el cual proviene. En ese sentido, el proveedor que mas entradas registra es el numero 4, con un total de 4.832 movimientos. Los productos que mas se mueven son lo de ID 80, 95 y 184 con valores de 1.488, 1.477 y 1.339 respectivamente. El cliente que mas movimiento hace es el 980. La transacción que mas se realiza es la 10. Por ultimo, los dias que me has movimientos se han relacionado son el 3 de noviembre de 2015, el 1 de enero de 2015 y el 14 de abril de 2015 con valores de 331, 326 y 323 respectivamente."
   ]
  },
  {
   "cell_type": "markdown",
   "id": "28c90531",
   "metadata": {},
   "source": [
    "## 3. Análisis de calidad de datos"
   ]
  },
  {
   "cell_type": "markdown",
   "id": "6a30d6b8",
   "metadata": {},
   "source": [
    "### 3.1 Unicidad y Validez"
   ]
  },
  {
   "cell_type": "markdown",
   "id": "d4e5138a",
   "metadata": {},
   "source": [
    "La unicidad se revisó en las reglas de negocio y la validez se reviso en el perfilamiento general y en el análisis de la descripción. EL unico campo que falto por validar la Unicidad fue el campo \"TransaccionProductoID\" para ello vamos a validar los registros unicos."
   ]
  },
  {
   "cell_type": "code",
   "execution_count": 84,
   "id": "8457be77",
   "metadata": {},
   "outputs": [
    {
     "name": "stdout",
     "output_type": "stream",
     "text": [
      "Número de clientes distintos: 173659\n"
     ]
    }
   ],
   "source": [
    "transacciones_unicas = movimientos.select(\"TransaccionProductoID\").distinct().count()\n",
    "print(\"Número de clientes distintos:\", transacciones_unicas)"
   ]
  },
  {
   "cell_type": "markdown",
   "id": "386db1f2",
   "metadata": {},
   "source": [
    "Se identifican un total de 173.659 de transacciones unicas, podemos inferir que puede existir la precencia de transacciones duplicadas. Toca validar con negocio e identificar la razon de por que el campo \"TransaccionProductoID\" presenta duplicados y si tiene sentido que existan."
   ]
  },
  {
   "cell_type": "markdown",
   "id": "a50f3bd6",
   "metadata": {},
   "source": [
    "### 3.2 Completitud y Validez"
   ]
  },
  {
   "cell_type": "code",
   "execution_count": 87,
   "id": "a18edfd9",
   "metadata": {},
   "outputs": [],
   "source": [
    "def contar_vacios(df):\n",
    "    resultados = []\n",
    "    for c in df.columns:\n",
    "        vacios = df.filter(df[c].isNull()).count()\n",
    "        if vacios!=0:\n",
    "            print('número de vacíos para columna '+c+': '+str( vacios ))\n",
    "            resultados.append(vacios)\n",
    "    return resultados\n",
    "\n",
    "def cardinalidad(df):\n",
    "    resultado = {}\n",
    "    for c in df.columns:\n",
    "        cardinalidad = df.select(col(c)).distinct().count()\n",
    "        if cardinalidad>=df.count()*0.5:\n",
    "            resultado[c] = cardinalidad\n",
    "    return resultado"
   ]
  },
  {
   "cell_type": "code",
   "execution_count": 90,
   "id": "60510074",
   "metadata": {},
   "outputs": [
    {
     "data": {
      "text/plain": [
       "[]"
      ]
     },
     "execution_count": 90,
     "metadata": {},
     "output_type": "execute_result"
    }
   ],
   "source": [
    "columnas_vacias_ordenes = contar_vacios(movimientos)\n",
    "columnas_vacias_ordenes"
   ]
  },
  {
   "cell_type": "code",
   "execution_count": 91,
   "id": "9a03015b",
   "metadata": {},
   "outputs": [
    {
     "data": {
      "text/plain": [
       "{'TransaccionProductoID': 173659}"
      ]
     },
     "execution_count": 91,
     "metadata": {},
     "output_type": "execute_result"
    }
   ],
   "source": [
    "columnas_alta_cardinalidad_ordenes = cardinalidad(movimientos)\n",
    "columnas_alta_cardinalidad_ordenes"
   ]
  },
  {
   "cell_type": "markdown",
   "id": "7c866489",
   "metadata": {},
   "source": [
    "Validando la completitud, no se identifica ningun campo que tenga incompletitud. Pero bien sabemos por los diferentes analisis que hemos realizado, identificamos que los campos \"ProveedorID\" y \"OrdenDeCompraID\" contienen valores en blanco, pero la logica de los datos nos indica que tiene sentido ya que esos campos solo deben estar completos para los movimientos que son ingresos. Desde esa perspectiva, el campo cumple con la dimensión de calidad.\n",
    "\n",
    "Por otro lado, respecto a la cardinalidad, solo la columna \"TransaccionProductoID\" tiene una cardinalidad superior al 50%."
   ]
  },
  {
   "cell_type": "markdown",
   "id": "bde7a0d0",
   "metadata": {},
   "source": [
    "### 3.3 Consistencia"
   ]
  },
  {
   "cell_type": "markdown",
   "id": "0074bf2a",
   "metadata": {},
   "source": [
    "Como bien sabemos de los resultados que obtuvimos en el perfilamiento de datos en el campo fecha tenemos un problema de consistencia con las fechas, ya que no todos los registros tienen el mismo formato YYYY-MM-DD HH:MM:SS. Por otro lado, necesitamos comprobar si todos los ingresos tienen \"ProveedorID\" y \"OrdenDeCompraID\" asignado."
   ]
  },
  {
   "cell_type": "code",
   "execution_count": 100,
   "id": "cd128a98",
   "metadata": {},
   "outputs": [
    {
     "name": "stdout",
     "output_type": "stream",
     "text": [
      "+-----------+-----+\n",
      "|ProveedorID|count|\n",
      "+-----------+-----+\n",
      "|        4.0| 4832|\n",
      "|        7.0| 2267|\n",
      "|           |   19|\n",
      "|        1.0|   11|\n",
      "+-----------+-----+\n",
      "\n",
      "+---------------+-----+\n",
      "|OrdenDeCompraID|count|\n",
      "+---------------+-----+\n",
      "|               |   19|\n",
      "|          829.0|   11|\n",
      "|         1579.0|   10|\n",
      "|         1186.0|   10|\n",
      "|         1237.0|   10|\n",
      "|         1498.0|   10|\n",
      "|         1313.0|   10|\n",
      "|         1301.0|    9|\n",
      "|         1363.0|    9|\n",
      "|          927.0|    9|\n",
      "+---------------+-----+\n",
      "only showing top 10 rows\n",
      "\n"
     ]
    }
   ],
   "source": [
    "movimientos_ingresos = movimientos.filter(movimientos[\"Cantidad\"] > 0)\n",
    "movimientos_ingresos.groupby(\"ProveedorID\").count().orderBy(\"count\", ascending=False).show(5)\n",
    "movimientos_ingresos.groupby(\"OrdenDeCompraID\").count().orderBy(\"count\", ascending=False).show(10)"
   ]
  },
  {
   "cell_type": "code",
   "execution_count": 112,
   "id": "f3b457c3",
   "metadata": {},
   "outputs": [
    {
     "name": "stdout",
     "output_type": "stream",
     "text": [
      "+---------------------+----------+-----------------+---------+---------+-----------+---------------+--------------------+--------+\n",
      "|TransaccionProductoID|ProductoID|TipoTransaccionID|ClienteID|InvoiceID|ProveedorID|OrdenDeCompraID|    FechaTransaccion|Cantidad|\n",
      "+---------------------+----------+-----------------+---------+---------+-----------+---------------+--------------------+--------+\n",
      "|               326934|        57|               12|      0.0|      0.0|           |               |         Apr 30,2016|     3.0|\n",
      "|               326936|        51|               12|      0.0|      0.0|           |               |         Apr 30,2016|     1.0|\n",
      "|               301420|       113|               12|      0.0|      0.0|           |               |         Jan 31,2016|     3.0|\n",
      "|               146565|       175|               12|      0.0|      0.0|           |               |         Jul 31,2014|     2.0|\n",
      "|                97777|        70|               12|      0.0|      0.0|           |               |2014-01-31 14:00:...|     3.0|\n",
      "|               120181|       202|               12|      0.0|      0.0|           |               |2014-04-30 14:00:...|     2.0|\n",
      "|               120182|       142|               12|      0.0|      0.0|           |               |2014-04-30 14:00:...|     3.0|\n",
      "|               146567|       203|               12|      0.0|      0.0|           |               |2014-07-31 14:00:...|     4.0|\n",
      "|               170371|        43|               12|      0.0|      0.0|           |               |2014-10-31 14:00:...|     2.0|\n",
      "|               194930|        27|               12|      0.0|      0.0|           |               |2015-01-31 14:00:...|     3.0|\n",
      "|               221187|       132|               12|      0.0|      0.0|           |               |2015-04-30 14:00:...|     4.0|\n",
      "|               221190|        42|               12|      0.0|      0.0|           |               |2015-04-30 14:00:...|     4.0|\n",
      "|               249261|        22|               12|      0.0|      0.0|           |               |2015-07-31 14:00:...|     4.0|\n",
      "|               275457|       118|               12|      0.0|      0.0|           |               |2015-10-31 14:00:...|     1.0|\n",
      "|               146567|       203|               12|      0.0|      0.0|           |               |2014-07-31 14:00:...|     4.0|\n",
      "|               221187|       132|               12|      0.0|      0.0|           |               |2015-04-30 14:00:...|     4.0|\n",
      "|               194930|        27|               12|      0.0|      0.0|           |               |2015-01-31 14:00:...|     3.0|\n",
      "|               120182|       142|               12|      0.0|      0.0|           |               |2014-04-30 14:00:...|     3.0|\n",
      "|               120181|       202|               12|      0.0|      0.0|           |               |2014-04-30 14:00:...|     2.0|\n",
      "+---------------------+----------+-----------------+---------+---------+-----------+---------------+--------------------+--------+\n",
      "\n"
     ]
    }
   ],
   "source": [
    "movimientos_ingresos_incosistentes = movimientos_ingresos.filter(movimientos_ingresos[\"OrdenDeCompraID\"] == \"\")\n",
    "movimientos_ingresos_incosistentes.show(20)"
   ]
  },
  {
   "cell_type": "markdown",
   "id": "4e5f79e3",
   "metadata": {},
   "source": [
    "Encontramos que hay 19 registros inconsistentes, ya que todos los registros que son movimientos de entrada o ingreso, en general siempre deben tener el ID del proveedor y la orden de compra asociada. Es imperante hablar con negocio para realizar la correción de esas transacciones y completar los 19 registros faltantes."
   ]
  },
  {
   "cell_type": "code",
   "execution_count": null,
   "id": "a860126e",
   "metadata": {},
   "outputs": [],
   "source": [
    "reporte = ProfileReport(movimientos.toPandas())\n",
    "reporte.to_file(PATH + \"reporte_prefilamiento.html\")"
   ]
  },
  {
   "cell_type": "markdown",
   "id": "2a8fa06d",
   "metadata": {},
   "source": [
    "## 4.Conclusiones"
   ]
  },
  {
   "cell_type": "markdown",
   "id": "efbe0c38",
   "metadata": {},
   "source": [
    "Con base en el análisis de los datos de la tabla \"movimientosCopia\" en la base de datos WWImportersTransactional, hemos llevado a cabo un proceso de entendimiento de datos que incluye el perfilamiento general, validación de reglas de negocio, análisis descriptivo y análisis de calidad de datos. A continuación, se resumen los hallazgos y conclusiones de este proceso:\n",
    "\n",
    "##### 1. Entendimiento General de los Datos:\n",
    "\n",
    "- La tabla de movimientos contiene información relacionada con productos, clientes, empleados y detalles de movimientos de inventario.\n",
    "- La mayoría de los campos de identificación (ID) se utilizan para relacionar datos con otras tablas.\n",
    "- Los tipos de datos incluyen enteros (Integer), números de punto flotante (Double) y cadenas de texto (String).\n",
    "- La tabla contiene un total de 204,292 registros y 9 variables.\n",
    "- La fecha de inicio de los datos es el 31 de diciembre de 2013.\n",
    "\n",
    "##### 2. Revisión de Reglas de Negocio:\n",
    "\n",
    "- La regla de que la cantidad máxima de productos movidos por transacción es de 50 millones parece ser cierta, ya que no se encontraron valores superiores en los registros.\n",
    "- La regla que establece que existen 236,668 movimientos de productos desde 2013 no se cumple, ya que encontramos menos registros de los esperados.\n",
    "- La regla de que los movimientos están relacionados con 228,265 clientes no se cumple, ya que el número de clientes únicos es mucho menor.\n",
    "- El formato de fechas (YYYY-MM-DD HH:MM:SS) se cumple en la mayoría de los registros. Aún asi, se presentan registros con el formato incorrecto, pero peude ser corregifo sin problema.\n",
    "- Actualmente, existen 13 proveedores, pero muchos movimientos no tienen un proveedor asociado. En la información suministrada solo se observan 3 proveedores.\n",
    "\n",
    "##### 3. Análisis Descriptivo:\n",
    "\n",
    "- La cantidad máxima de productos retirados es 360 unidades, mientras que la cantidad máxima ingresada es 67,368 unidades.\n",
    "- Los datos de cantidad presentan una gran variabilidad y la distribución no parece seguir una normal.\n",
    "- La mayoría de los datos se concentran alrededor de valores bajos (en los retiros), con presencia de valores anómalos o extremos (en los ingresos).\n",
    "- El análisis identificó los productos, clientes, transacciones y fechas más frecuentes en los movimientos.\n",
    "\n",
    "##### 4. Análisis de Calidad de Datos:\n",
    "\n",
    "- La unicidad de la columna \"TransaccionProductoID\" mostró la presencia de registros duplicados, lo que debe ser validado con el negocio.\n",
    "- La completitud de los campos se mantiene, pero se identificó que los campos \"ProveedorID\" y \"OrdenDeCompraID\" pueden estar en blanco en los movimientos de salida, lo que es consistente con la lógica de los datos.\n",
    "- La consistencia de las fechas presentó problemas, ya que no todos los registros siguen el formato requerido.\n",
    "- Encontramos 19 registros inconsistentes en los que falta información de proveedores y órdenes de compra.\n",
    "\n",
    "En resumen, este proceso de entendimiento de datos revela la necesidad de una mayor validación de las reglas de negocio y una corrección de los registros inconsistentes. Además, es esencial abordar los registros duplicados y los problemas de consistencia en las fechas. Esto proporciona una base sólida para la mejora y el enriquecimiento de la calidad de los datos, lo que puede llevar a análisis y toma de decisiones más precisos en el futuro."
   ]
  }
 ],
 "metadata": {
  "kernelspec": {
   "display_name": "Python 3 (ipykernel)",
   "language": "python",
   "name": "python3"
  },
  "language_info": {
   "codemirror_mode": {
    "name": "ipython",
    "version": 3
   },
   "file_extension": ".py",
   "mimetype": "text/x-python",
   "name": "python",
   "nbconvert_exporter": "python",
   "pygments_lexer": "ipython3",
   "version": "3.9.12"
  }
 },
 "nbformat": 4,
 "nbformat_minor": 5
}
